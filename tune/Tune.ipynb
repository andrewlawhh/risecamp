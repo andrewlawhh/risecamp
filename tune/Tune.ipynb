{
 "cells": [
  {
   "cell_type": "markdown",
   "metadata": {},
   "source": [
    "# Tune Tutorial"
   ]
  },
  {
   "cell_type": "markdown",
   "metadata": {},
   "source": [
    "Tune is a scalable framework for hyperparameter search with a focus on deep learning and deep reinforcement learning.\n",
    "\n",
    "**Code**: https://github.com/ray-project/ray/tree/master/python/ray/tune\n",
    "\n",
    "**Documentation**: http://ray.readthedocs.io/en/latest/tune.html"
   ]
  },
  {
   "cell_type": "code",
   "execution_count": null,
   "metadata": {},
   "outputs": [],
   "source": [
    "from helper import load_data\n",
    "import numpy as np\n",
    "\n",
    "import keras\n",
    "from keras.models import Sequential\n",
    "from keras.layers import Dense, Dropout, Flatten\n",
    "from keras.layers import Conv2D, MaxPooling2D\n",
    "from keras.preprocessing.image import ImageDataGenerator\n",
    "\n",
    "%load_ext autoreload\n",
    "%autoreload 2"
   ]
  },
  {
   "cell_type": "markdown",
   "metadata": {},
   "source": [
    "Tuning hyperparameters is often the most expensive part of the machine learning workflow. Here, we walk through a tutorial on using Tune, demonstrating an efficient and scalable solution for this pain point.\n",
    "\n",
    "\n",
    "## Outline\n",
    "This tutorial will walk you through the following process:\n",
    "\n",
    "1. Creating and training a model on a toy dataset (MNIST)\n",
    "2. Integrating Tune into your workflow\n",
    "3. Trying out advanced features - plugging in an efficient scheduler and search algorithm\n",
    "4. Validating your trained model"
   ]
  },
  {
   "cell_type": "markdown",
   "metadata": {},
   "source": [
    "## PART 1: Creating a model to be trained.\n",
    "\n",
    "We want to start off by creating a simple model to classify digits. \n",
    "\n",
    "\n",
    "## TODO(rliaw): Make input to `make_model` a dict."
   ]
  },
  {
   "cell_type": "markdown",
   "metadata": {},
   "source": [
    "Hints:\n",
    "1. `data_generator` yields (`x_batch`, `y_batch`).\n",
    "2. You can use `model.fit(data, targets)` to train the model."
   ]
  },
  {
   "cell_type": "code",
   "execution_count": null,
   "metadata": {},
   "outputs": [],
   "source": [
    "def make_model(args):\n",
    "    num_classes = 10\n",
    "    \n",
    "    model = Sequential()\n",
    "    model.add(Conv2D(32, kernel_size=(args.kernel1, args.kernel1),\n",
    "                     activation='relu', input_shape=(28, 28, 1)))\n",
    "    model.add(Conv2D(64, (args.kernel2, args.kernel2), activation='relu'))\n",
    "    model.add(MaxPooling2D(pool_size=(args.poolsize, args.poolsize)))\n",
    "    model.add(Dropout(args.dropout1))\n",
    "    model.add(Flatten())\n",
    "    model.add(Dense(args.hidden, activation='relu'))\n",
    "    model.add(Dropout(args.dropout2))\n",
    "    model.add(Dense(num_classes, activation='softmax'))\n",
    "\n",
    "    model.compile(loss=keras.losses.categorical_crossentropy,\n",
    "                  optimizer=keras.optimizers.SGD(\n",
    "                      lr=args.lr, momentum=args.momentum),\n",
    "                  metrics=['accuracy'])\n",
    "    return model\n",
    "\n",
    "def train_mnist(args):\n",
    "    data_generator = load_data()\n",
    "    model = make_model(args)\n",
    "    \n",
    "    ## TODO:\n",
    "    ## Fill this out here to train the model off all the data \n",
    "    ## in the generator.\n",
    "    pass\n",
    "    ##\n",
    "    model.save_weights(\"./weights.h5\")"
   ]
  },
  {
   "cell_type": "markdown",
   "metadata": {},
   "source": [
    "Let's use some default hyperparameters."
   ]
  },
  {
   "cell_type": "code",
   "execution_count": null,
   "metadata": {},
   "outputs": [],
   "source": [
    "import argparse\n",
    "parser = argparse.ArgumentParser(description='Keras MNIST Example')\n",
    "parser.add_argument('--lr', type=float, default=0.01, help='learning rate')\n",
    "parser.add_argument('--momentum', type=float, default=0.5, help='SGD momentum')\n",
    "parser.add_argument('--kernel1', type=int, default=3, help='Size of first kernel')\n",
    "parser.add_argument('--kernel2', type=int, default=3, help='Size of second kernel')\n",
    "parser.add_argument('--poolsize', type=int, default=2, help='Size of Poolin')\n",
    "parser.add_argument('--dropout1', type=float, default=0.25, help='Size of first kernel')\n",
    "parser.add_argument('--hidden', type=int, default=128, help='Size of Hidden Layer')\n",
    "parser.add_argument('--dropout2', type=float, default=0.5, help='Size of first kernel')\n",
    "\n",
    "args = parser.parse_known_args()[0]"
   ]
  },
  {
   "cell_type": "markdown",
   "metadata": {},
   "source": [
    "*Then*, we want to train this model. "
   ]
  },
  {
   "cell_type": "code",
   "execution_count": null,
   "metadata": {},
   "outputs": [],
   "source": [
    "train_mnist(args)"
   ]
  },
  {
   "cell_type": "markdown",
   "metadata": {},
   "source": [
    "## Part 2: Setting up Tune\n",
    "\n",
    "Let's make some minor modifications to utilize Tune. "
   ]
  },
  {
   "cell_type": "markdown",
   "metadata": {},
   "source": [
    "Tune uses Ray as a backend, so we will first import and initialize Ray."
   ]
  },
  {
   "cell_type": "code",
   "execution_count": null,
   "metadata": {},
   "outputs": [],
   "source": [
    "import ray\n",
    "from ray import tune\n",
    "\n",
    "ray.init(ignore_reinit_error=True)"
   ]
  },
  {
   "cell_type": "markdown",
   "metadata": {},
   "source": [
    "Tune will automate and distribute your hyperparameter search by scheduling a number of trials in a cluster. Each trial runs a user-defined Python function with a given set of hyperparameters. \n",
    "\n",
    "There are two steps you need to take to setup Tune to search using the above `train_mnist` method."
   ]
  },
  {
   "cell_type": "markdown",
   "metadata": {},
   "source": [
    "### Two steps to use Tune:\n",
    "\n",
    "*1*. For the function you wish to tune, we need to change the signature to a specific format as shown below. Specifically: pass in a **``reporter``** object to the below `train_mnist_tune` class.\n",
    "\n",
    "```\n",
    "def trainable(config, reporter):\n",
    "    \"\"\"\n",
    "    Args:\n",
    "        config (dict): Parameters provided from the search algorithm\n",
    "            or variant generation.\n",
    "        reporter (Reporter): Handle to report intermediate metrics to Tune.\n",
    "    \"\"\"\n",
    "```\n",
    "\n",
    "*2*. We want to keep track of performance as the model is training. Specifically: get the `mean_accuracy` from Keras, and call the **``reporter``** to report the `mean_accuracy` for every batch. You can get model accuracy from Keras with the following code:\n",
    "\n",
    "```\n",
    "result = model.fit(x_batch, y_batch, verbose=0)\n",
    "mean_accuracy = result.history[\"acc\"][0]\n",
    "```\n",
    "\n",
    "\n",
    "Example of using the reporter:\n",
    "\n",
    "```\n",
    " def train_func(config, reporter):  # add a reporter arg\n",
    "     ...\n",
    "     for data, target in dataset:\n",
    "         accuracy = model.fit(data, target)\n",
    "         reporter(mean_accuracy=accuracy) # report metrics\n",
    "```\n"
   ]
  },
  {
   "cell_type": "code",
   "execution_count": 1,
   "metadata": {},
   "outputs": [],
   "source": [
    "### TODO: Change this signature #####\n",
    "def train_mnist_tune(config, reporter):\n",
    "###################################\n",
    "    global args\n",
    "    vars(args).update(config)\n",
    "    data_generator = load_data()\n",
    "    model = make_model(args)\n",
    "    for x_batch, y_batch in data_generator:\n",
    "        result = model.fit(x_batch, y_batch, verbose=0)\n",
    "        # TODO: Use the reporter here to fill out intermediate metrics\n",
    "        ##########\n",
    "        \n",
    "    model.save_weights(\"./weights_tune.h5\")"
   ]
  },
  {
   "cell_type": "markdown",
   "metadata": {},
   "source": [
    "### Let's now try to search over the learning rate. \n",
    "\n",
    "NOTE: You can find the documentation for this section here: https://ray.readthedocs.io/en/latest/tune-usage.html#specifying-experiments\n",
    "\n",
    "\n",
    "Let's first create a Tune Experiment specification. The relevant documentation for the Experiment class is here:\n",
    "\n",
    "```python\n",
    "class ray.tune.Experiment(name, run, stop=None, config=None, ... ):\n",
    "    \"\"\"Tracks experiment specifications.\n",
    "\n",
    "    Parameters:\n",
    "        name (str): Name of experiment.\n",
    "        run (function|class|str): The algorithm or model to train.\n",
    "            This may refer to the name of a built-on algorithm\n",
    "            (e.g. RLLib's DQN or PPO), a user-defined trainable\n",
    "            function or class, or the string identifier of a\n",
    "            trainable function or class registered in the tune registry.\n",
    "        stop (dict): The stopping criteria. The keys may be any field in\n",
    "            the return result of 'train()', whichever is reached first.\n",
    "            Defaults to empty dict.\n",
    "        config (dict): Algorithm-specific configuration for Tune variant\n",
    "            generation (e.g. env, hyperparams). Defaults to empty dict.\n",
    "            Custom search algorithms may ignore this.\n",
    "```\n",
    "\n",
    "1. Set the stopping criteria to stop when `mean_accuracy` passes `0.95`.\n",
    "\n",
    "\n",
    "Next, we should designate a search space. \n",
    "2. Randomly search for learning rate between 0.001 to 0.1. (https://ray.readthedocs.io/en/latest/tune-usage.html#tune-search-space-default)"
   ]
  },
  {
   "cell_type": "code",
   "execution_count": null,
   "metadata": {},
   "outputs": [],
   "source": [
    "configuration = tune.Experiment(\n",
    "    \"experiment_name\",\n",
    "    run=train_mnist_tune,\n",
    "    stop={},\n",
    "    config={}\n",
    ")\n",
    "tune.run_experiments(configuration)"
   ]
  },
  {
   "cell_type": "markdown",
   "metadata": {},
   "source": [
    "## Try using a scheduler\n",
    "\n"
   ]
  },
  {
   "cell_type": "markdown",
   "metadata": {},
   "source": [
    "Now, let's use this machine with CPUs and multiplex our training to find the best parameters using a single machine.\n",
    "\n",
    "1. Run 10 samples (https://ray.readthedocs.io/en/latest/tune-usage.html#sampling-multiple-times)\n",
    "2. Create an Asynchronous HyperBand Scheduler (https://ray.readthedocs.io/en/latest/tune-schedulers.html#asynchronous-hyperband) and set the following fields for the scheduler: \n",
    "```\n",
    "time_attr=\"training_iteration\",\n",
    "reward_attr=\"mean_accuracy\"\n",
    "```"
   ]
  },
  {
   "cell_type": "code",
   "execution_count": null,
   "metadata": {},
   "outputs": [],
   "source": [
    "from ray.tune.schedulers import AsyncHyperBandScheduler\n",
    "\n",
    "## TODO: Follow the above instructions\n",
    "configuration.spec[\"num_samples\"] = 1"
   ]
  },
  {
   "cell_type": "code",
   "execution_count": null,
   "metadata": {},
   "outputs": [],
   "source": [
    "tune.run_experiments(configuration, scheduler=hyperband)"
   ]
  },
  {
   "cell_type": "markdown",
   "metadata": {},
   "source": [
    "# (Optional) Try using a search algorithm"
   ]
  },
  {
   "cell_type": "markdown",
   "metadata": {},
   "source": [
    "Tune is an execution layer, so we can combine powerful optimizers such as HyperOpt (https://github.com/hyperopt/hyperopt) with state-of-the-art algorithms such as HyperBand without modifying any model training code."
   ]
  },
  {
   "cell_type": "markdown",
   "metadata": {},
   "source": [
    "TODO:\n",
    "\n",
    "1. Create a HyperOptSearch object and run an experiment combining both the previously created `hyperband` scheduler and this Search algorithm. Use the given search space."
   ]
  },
  {
   "cell_type": "code",
   "execution_count": null,
   "metadata": {},
   "outputs": [],
   "source": [
    "from ray.tune.suggest import HyperOptSearch\n",
    "space = {\n",
    "    \"lr\": hp.uniform(\"lr\", 0.001, 0.1),\n",
    "    \"momentum\": hp.uniform(\"momentum\", 0.1, 0.9),\n",
    "    \"hidden\": hp.quniform(\"hidden\", 32, 512, 1),\n",
    "    \"dropout1\": hp.uniform(\"dropout1\", 0.2, 0.8),\n",
    "}\n",
    "\n",
    "## TODO: CREATE A HyperOptObject\n",
    "\n",
    "## TODO: Pass in the object to Tune.\n",
    "tune.run_experiments(\n",
    "    configuration, scheduler=hyperband)"
   ]
  },
  {
   "cell_type": "markdown",
   "metadata": {},
   "source": [
    "## (Optional) Fault Tolerance"
   ]
  },
  {
   "cell_type": "code",
   "execution_count": null,
   "metadata": {},
   "outputs": [],
   "source": [
    "class Model(tune.Trainable):\n",
    "    def _setup(self):\n",
    "        vars(args).update(self.config) #add this\n",
    "        self.model = make_model(args)\n",
    "        self.data_generator = load_data()\n",
    "    \n",
    "    def _train(self):\n",
    "        x_train, y_train = self.data_generator.next()\n",
    "        result = self.model.fit(\n",
    "        model.fit(x_batch, y_batch, verbose=0)\n",
    "        return {\"mean_accuracy\": result.history[\"acc\"][0]}\n",
    "    \n",
    "    def _save(self, checkpoint_dir):\n",
    "        checkpoint_path = os.path.join(checkpoint_dir, \"weights.h5\")\n",
    "        self.model.save_weights(checkpoint_path)\n",
    "    \n",
    "    def _restore(self, checkpoint_path):\n",
    "        self.model.load_weights(checkpoint_path)"
   ]
  },
  {
   "cell_type": "code",
   "execution_count": null,
   "metadata": {},
   "outputs": [],
   "source": [
    "ray.init(ignore_reinit_error=True)\n",
    "configuration = tune.Experiment(\n",
    "    \"experiment_name\",\n",
    "    stop={\"mean_accuracy\": 0.99},\n",
    "    run=Model,\n",
    "    config={\n",
    "        \"lr\": lambda spec: np.random.uniform(0.001, 0.1),\n",
    "        \"momentum\": lambda spec: np.random.uniform(0.1, 0.9),\n",
    "        \"hidden\": lambda spec: np.random.randint(32, 512),\n",
    "        \"dropout1\": lambda spec: np.random.uniform(0.2, 0.8),\n",
    "    },\n",
    "    checkpoint_at_end=True\n",
    ")\n",
    "tune.run_experiments(configuration)"
   ]
  }
 ],
 "metadata": {
  "kernelspec": {
   "display_name": "Python 3",
   "language": "python",
   "name": "python3"
  },
  "language_info": {
   "codemirror_mode": {
    "name": "ipython",
    "version": 3
   },
   "file_extension": ".py",
   "mimetype": "text/x-python",
   "name": "python",
   "nbconvert_exporter": "python",
   "pygments_lexer": "ipython3",
   "version": "3.6.4"
  }
 },
 "nbformat": 4,
 "nbformat_minor": 2
}
