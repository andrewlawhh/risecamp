{
 "cells": [
  {
   "cell_type": "markdown",
   "metadata": {},
   "source": [
    "# Using WAVE to secure a model\n",
    "\n",
    "This notebook will set up the WAVE context for the integration demo. We assume that there are two parties: the one training the model, and the one using it.\n",
    "\n",
    "First, we connect to wave:"
   ]
  },
  {
   "cell_type": "code",
   "execution_count": 1,
   "metadata": {},
   "outputs": [],
   "source": [
    "import wave3 as wv\n",
    "import grpc\n",
    "\n",
    "# create the connection to wave\n",
    "wave = wv.WAVEStub(grpc.insecure_channel(\"localhost:410\"))"
   ]
  },
  {
   "cell_type": "markdown",
   "metadata": {},
   "source": [
    "Now we create a WAVE entity that represents the organization namespace:"
   ]
  },
  {
   "cell_type": "code",
   "execution_count": 6,
   "metadata": {},
   "outputs": [],
   "source": [
    "orgNamespaceEntity = wave.CreateEntity(wv.CreateEntityParams())\n",
    "_ = wave.PublishEntity(wv.PublishEntityParams(DER=orgNamespaceEntity.PublicDER))"
   ]
  },
  {
   "cell_type": "markdown",
   "metadata": {},
   "source": [
    "Now, separately, the party receving the model would create their own entity"
   ]
  },
  {
   "cell_type": "code",
   "execution_count": 7,
   "metadata": {},
   "outputs": [],
   "source": [
    "recipientEntity = wave.CreateEntity(wv.CreateEntityParams())\n",
    "_ = wave.PublishEntity(wv.PublishEntityParams(DER=recipientEntity.PublicDER))"
   ]
  },
  {
   "cell_type": "markdown",
   "metadata": {},
   "source": [
    "Finally, the organization would grant the ability to decrypt certain categories of models to the recipient"
   ]
  },
  {
   "cell_type": "code",
   "execution_count": 9,
   "metadata": {},
   "outputs": [],
   "source": [
    "_ = wave.CreateAttestation(wv.CreateAttestationParams(\n",
    "    perspective=wv.Perspective(\n",
    "        entitySecret=wv.EntitySecret(DER=orgNamespaceEntity.SecretDER)),\n",
    "    subjectHash=recipientEntity.hash,\n",
    "    publish=True,\n",
    "    policy=wv.Policy(rTreePolicy=wv.RTreePolicy(\n",
    "        namespace=orgNamespaceEntity.hash,\n",
    "        indirections=5,\n",
    "        statements=[\n",
    "            wv.RTreePolicyStatement(\n",
    "                permissionSet=wv.WaveBuiltinPSET,\n",
    "                permissions=[wv.WaveBuiltinE2EE],\n",
    "                resource=\"models/pong\",\n",
    "            )]\n",
    "    ))))"
   ]
  }
 ],
 "metadata": {
  "kernelspec": {
   "display_name": "Python 3",
   "language": "python",
   "name": "python3"
  },
  "language_info": {
   "codemirror_mode": {
    "name": "ipython",
    "version": 3
   },
   "file_extension": ".py",
   "mimetype": "text/x-python",
   "name": "python",
   "nbconvert_exporter": "python",
   "pygments_lexer": "ipython3",
   "version": "3.7.0"
  }
 },
 "nbformat": 4,
 "nbformat_minor": 2
}
