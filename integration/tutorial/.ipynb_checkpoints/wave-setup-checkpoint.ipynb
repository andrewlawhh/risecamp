{
 "cells": [
  {
   "cell_type": "markdown",
   "metadata": {},
   "source": [
    "# Using WAVE to secure a model\n",
    "\n",
    "This notebook will set up the WAVE context for the integration demo. We assume that there are two parties: the one training the model, and the one using it.\n",
    "\n",
    "First, we connect to wave:"
   ]
  },
  {
   "cell_type": "code",
   "execution_count": 1,
   "metadata": {},
   "outputs": [],
   "source": [
    "import wave3 as wv\n",
    "import grpc\n",
    "\n",
    "# create the connection to wave\n",
    "wave = wv.WAVEStub(grpc.insecure_channel(\"localhost:410\"))"
   ]
  },
  {
   "cell_type": "markdown",
   "metadata": {},
   "source": [
    "Now we define a helper function that returns two WAVE entities that represents the granting organization and the receiving entity:"
   ]
  },
  {
   "cell_type": "code",
   "execution_count": 6,
   "metadata": {},
   "outputs": [],
   "source": [
    "def createWaveEntities():\n",
    "    orgEntity = wave.CreateEntity(wv.CreateEntityParams())\n",
    "    _ = wave.PublishEntity(wv.PublishEntityParams(DER=orgEntity.PublicDER)) \n",
    "    \n",
    "    recipientEntity = wave.CreateEntity(wv.CreateEntityParams())\n",
    "    _ = wave.PublishEntity(wv.PublishEntityParams(DER=recipientEntity.PublicDER))\n",
    "    \n",
    "    return orgEntity, recipientEntity"
   ]
  },
  {
   "cell_type": "code",
   "execution_count": null,
   "metadata": {},
   "outputs": [],
   "source": []
  },
  {
   "cell_type": "code",
   "execution_count": 1,
   "metadata": {},
   "outputs": [],
   "source": [
    "def serializeEntity(entity):\n",
    "    ent_dict = {\"pub\": entity.PublicDER, \"sec\": entity.SecretDER, \"hash\": entity.hash}\n",
    "    return ent_dict\n",
    "\n",
    "def deserializeEntity(ent_dict):\n",
    "    return wv.CreateEntityResponse(PublicDER=ent_dict[\"pub\"], SecretDER=ent_dict[\"sec\"], hash=ent_dict[\"hash\"])"
   ]
  },
  {
   "cell_type": "markdown",
   "metadata": {},
   "source": [
    "Finally, we define a helper function that takes a granting entity, a recipient entity, and a resource name. The granting entity grants permission to the recipient entity to access the resource named."
   ]
  },
  {
   "cell_type": "code",
   "execution_count": 9,
   "metadata": {},
   "outputs": [],
   "source": [
    "def grantPermission(grantingEntity, recipientEntity, resource):\n",
    "    _ = wave.CreateAttestation(wv.CreateAttestationParams(\n",
    "        perspective=wv.Perspective(\n",
    "            entitySecret=wv.EntitySecret(DER=grantingEntity.SecretDER)),\n",
    "        subjectHash=recipientEntity.hash,\n",
    "        publish=True,\n",
    "        policy=wv.Policy(rTreePolicy=wv.RTreePolicy(\n",
    "            namespace=grantingEntity.hash,\n",
    "            indirections=5,\n",
    "            statements=[\n",
    "                wv.RTreePolicyStatement(\n",
    "                    permissionSet=wv.WaveBuiltinPSET,\n",
    "                    permissions=[wv.WaveBuiltinE2EE],\n",
    "                    resource=resource,\n",
    "                )]\n",
    "        ))))"
   ]
  }
 ],
 "metadata": {
  "kernelspec": {
   "display_name": "Python 3",
   "language": "python",
   "name": "python3"
  },
  "language_info": {
   "codemirror_mode": {
    "name": "ipython",
    "version": 3
   },
   "file_extension": ".py",
   "mimetype": "text/x-python",
   "name": "python",
   "nbconvert_exporter": "python",
   "pygments_lexer": "ipython3",
   "version": "3.7.0"
  }
 },
 "nbformat": 4,
 "nbformat_minor": 2
}
