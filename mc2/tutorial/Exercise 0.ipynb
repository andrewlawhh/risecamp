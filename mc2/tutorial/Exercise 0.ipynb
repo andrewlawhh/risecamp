{
 "cells": [
  {
   "cell_type": "markdown",
   "metadata": {},
   "source": [
    "## MC<sup>2</sup> : Multiparty Collaboration & Coopetition\n",
    "MC<sup>2</sup> contains a series of subprojects in the RISE Lab, all pertaining to multiparty collaboration and coopetition. The particular project we'll be giving a tutorial on today is Federated XGBoost, an extension of the existing gradient boosting machine learning framework that enables use of the framework in the federated setting. This is particularly important for use cases that focus on low bandwidth training across multiple parties.\n",
    "\n",
    "You can find the codebase here: https://github.com/mc2-project/mc2"
   ]
  },
  {
   "cell_type": "markdown",
   "metadata": {},
   "source": [
    "## Dataset\n",
    "TODO: Description of dataset, the skew we added"
   ]
  },
  {
   "cell_type": "markdown",
   "metadata": {},
   "source": [
    "### Setup"
   ]
  },
  {
   "cell_type": "markdown",
   "metadata": {},
   "source": [
    "To simulate a federation, please get into groups of 3 or 4. Choose one member of the team to act as the trusted central server. Assign all other members of the federation a party ID from 1 to 3.\n",
    "\n",
    "Create a Slack channel or group message and add all members of your federation."
   ]
  },
  {
   "cell_type": "markdown",
   "metadata": {},
   "source": [
    "Obtain your IP address and your SSH public key. Have these on hand as we'll need them for latter parts of the tutorial."
   ]
  },
  {
   "cell_type": "code",
   "execution_count": 4,
   "metadata": {},
   "outputs": [
    {
     "name": "stdout",
     "output_type": "stream",
     "text": [
      "34.222.165.90\r\n"
     ]
    }
   ],
   "source": [
    "# External IP\n",
    "!dig +short myip.opendns.com @resolver1.opendns.com"
   ]
  },
  {
   "cell_type": "code",
   "execution_count": 5,
   "metadata": {
    "scrolled": true
   },
   "outputs": [
    {
     "name": "stdout",
     "output_type": "stream",
     "text": [
      "ssh-rsa AAAAB3NzaC1yc2EAAAADAQABAAACAQDvHRMOK8tMmbg1T0GY6NfJWiKgZ8PgTCP0/sgJlKxzdvjSsv3JJuw1U1JT+fvMr1Hr1CVtkTMk3L9BzXz/JnBS+/MkY+Z4U2vQb5TkINMCADqQpXZ53DZsz44ORo89+tGZ0Q7IQZe2nAP22y/PK1B3U8FPiflcI0VDgfTZdWK1Zj36C077lpdbpomPFKUXhvUc6ZQWfuLMy/hHguH+QMD6+ZXgaMqIyuC9e2cjICKRWSss1T3b+pGfr5BFt6E9GDNwtSWtYBX5QlKA2oxFhYoKxP2gkrHK1shkt0f3nUYgbujFW1uSqMC2iXV0mrxuvSi5d+K+A0yYJI3ODk/MMQVzNq40KwEgGVz3Q272LQOX9B8/cOlYqUs8S6HKbYnn+wV3qW0WsQp0SUxrjxOfIUlU/lkkM4ySd32963hWdDEIDw6FvSHA36uzCXSJOtn7UrCS2Nv0fXhbNMLScd4oMyjGCQ8pQx3GNdTzJgG0jAtdesEy37vP5OpkjhBUVeLxUAK/v69uuM/+LDTSV8zrjCWNJLH5WQyUWwcF/Rhr4JPFGD6f7aVOFeor/bg5C7ZkxCDBbx/TZEDw8Ms5OjLvty8hawH9pjMps/7aS/9xu2UMUYjViAHkP2bdch+DlLmP6B0WXYWsvkzA2yYiCVMINE5MD/kV/JWV2VIa4BkVGuJneQ== root@ip-172-31-4-134\r\n"
     ]
    }
   ],
   "source": [
    "# SSH public key\n",
    "!cat ~/.ssh/id_rsa.pub"
   ]
  },
  {
   "cell_type": "markdown",
   "metadata": {},
   "source": [
    "Send your SSH public key to all other members of your federation through Slack."
   ]
  },
  {
   "cell_type": "code",
   "execution_count": 1,
   "metadata": {},
   "outputs": [],
   "source": [
    "# If you're the central server, add all parties' SSH public keys to your authorized_keys file\n",
    "# Else, add the central server's SSH public key to your authorized_keys file\n",
    "!echo \"<ssh_public_key>\" >> ~/.ssh/authorized_keys"
   ]
  },
  {
   "cell_type": "code",
   "execution_count": null,
   "metadata": {},
   "outputs": [],
   "source": []
  }
 ],
 "metadata": {
  "kernelspec": {
   "display_name": "Python 3",
   "language": "python",
   "name": "python3"
  },
  "language_info": {
   "codemirror_mode": {
    "name": "ipython",
    "version": 3
   },
   "file_extension": ".py",
   "mimetype": "text/x-python",
   "name": "python",
   "nbconvert_exporter": "python",
   "pygments_lexer": "ipython3",
   "version": "3.6.8"
  }
 },
 "nbformat": 4,
 "nbformat_minor": 2
}
