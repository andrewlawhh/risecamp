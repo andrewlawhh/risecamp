{
 "cells": [
  {
   "cell_type": "markdown",
   "metadata": {},
   "source": [
    "## MC<sup>2</sup> : Multiparty Collaboration & Coopetition\n",
    "MC<sup>2</sup> contains a series of subprojects in the RISE Lab, all pertaining to multiparty collaboration and coopetition. The particular project we'll be giving a tutorial on today is Federated XGBoost, an extension of the existing gradient boosting machine learning framework that enables use of the framework in the federated setting. This is particularly important for use cases that focus on low bandwidth training across multiple parties.\n",
    "\n",
    "You can find the codebase here: https://github.com/mc2-project/mc2"
   ]
  },
  {
   "cell_type": "markdown",
   "metadata": {},
   "source": [
    "## Dataset\n",
    "TODO: Description of dataset, the skew we added"
   ]
  },
  {
   "cell_type": "markdown",
   "metadata": {},
   "source": [
    "### Setup"
   ]
  },
  {
   "cell_type": "markdown",
   "metadata": {},
   "source": [
    "To simulate a federation, please get into groups of 3 or 4. Choose one member of the team to act as the trusted central server. Assign all other members of the federation a party ID from 1 to 3.\n",
    "\n",
    "Create a Slack channel or group message and add all members of your federation."
   ]
  },
  {
   "cell_type": "markdown",
   "metadata": {},
   "source": [
    "Obtain your IP address and your SSH public key. Have these on hand as we'll need them for latter parts of the tutorial."
   ]
  },
  {
   "cell_type": "code",
   "execution_count": null,
   "metadata": {},
   "outputs": [],
   "source": [
    "# External IP\n",
    "!dig +short myip.opendns.com @resolver1.opendns.com"
   ]
  },
  {
   "cell_type": "code",
   "execution_count": null,
   "metadata": {
    "scrolled": true
   },
   "outputs": [],
   "source": [
    "# SSH public key\n",
    "!cat ~/.ssh/id_rsa.pub"
   ]
  },
  {
   "cell_type": "markdown",
   "metadata": {},
   "source": [
    "Send your SSH public key to all other members of your federation through Slack."
   ]
  },
  {
   "cell_type": "code",
   "execution_count": null,
   "metadata": {},
   "outputs": [],
   "source": [
    "# If you're the central server, add all parties' SSH public keys to your authorized_keys file\n",
    "# Else, add the central server's SSH public key to your authorized_keys file\n",
    "!echo \"<ssh_public_key>\" >> ~/.ssh/authorized_keys"
   ]
  },
  {
   "cell_type": "markdown",
   "metadata": {},
   "source": [
    "Add your username, IP address, and public key to the lookup service."
   ]
  },
  {
   "cell_type": "code",
   "execution_count": null,
   "metadata": {},
   "outputs": [],
   "source": [
    "from pymongo import MongoClient\n",
    "\n",
    "username = \"xgboost\"\n",
    "password = \"risecampmc2\"\n",
    "\n",
    "client = MongoClient('mongodb://%s:%s@54.202.14.46:6379/risecampPKI' % (username, password))\n",
    "\n",
    "db = client['risecampPKI']\n",
    "posts = db.posts\n",
    "\n",
    "pubkey = open('/home/ubuntu/.ssh/id_rsa.pub').read().strip()\n",
    "\n",
    "post_data = {\n",
    "    'user': 'Wenting',\n",
    "    'IP': '127.0.0.1',\n",
    "    'key': pubkey\n",
    "}\n",
    "result = posts.insert_one(post_data)\n"
   ]
  },
  {
   "cell_type": "code",
   "execution_count": null,
   "metadata": {},
   "outputs": [],
   "source": []
  }
 ],
 "metadata": {
  "kernelspec": {
   "display_name": "Python 3",
   "language": "python",
   "name": "python3"
  },
  "language_info": {
   "codemirror_mode": {
    "name": "ipython",
    "version": 3
   },
   "file_extension": ".py",
   "mimetype": "text/x-python",
   "name": "python",
   "nbconvert_exporter": "python",
   "pygments_lexer": "ipython3",
   "version": "3.6.8"
  }
 },
 "nbformat": 4,
 "nbformat_minor": 2
}
