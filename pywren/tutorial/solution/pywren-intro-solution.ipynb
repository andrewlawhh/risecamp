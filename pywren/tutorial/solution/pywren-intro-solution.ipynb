{
 "cells": [
  {
   "cell_type": "markdown",
   "metadata": {},
   "source": [
    "# PyWren RISECamp, 2018"
   ]
  },
  {
   "cell_type": "markdown",
   "metadata": {},
   "source": [
    "Welcome to the hands-on tutorial for PyWren.\n",
    "\n",
    "This tutorial consists of a set of exercises that will have you working directly with PyWren:\n",
    "- basic exercises that introduce you to PyWren APIs (covered in this notebook)\n",
    "- data analysis on a wikipedia dataset (see [analyze-wikipedia.ipynb](../analyze-wikipedia.ipynb))\n",
    "- matrix multiplication with PyWren (see [matrix-computations-advanced.ipynb](../matrix-computations-advanced.ipynb))\n",
    "- hyperparameter optimization (see [hyperparameter-optimization.ipynb](../hyperparameter-optimization.ipynb))\n",
    "\n",
    "\n",
    "A couple of notes before you dive into the actual tutorials:\n",
    "- To run a code cell: select the cell, click Cell -> Run Cells or use Ctrl + Enter.\n",
    "- ***Execute*** indicates that the following code cell just works as given. Make sure to run them.\n",
    "- ***Exercise*** indicates an incomplete/broken code cell. Modify the code to make them work.\n",
    "- You can find solutions for the exercises [here](./)\n",
    "\n",
    "\n",
    "\n"
   ]
  },
  {
   "cell_type": "markdown",
   "metadata": {},
   "source": [
    "## Introduction to PyWren\n",
    "\n",
    "\n",
    "For this tutorial, we have already installed PyWren in the docker container where this jupyter notebook is running.\n",
    "PyWren provides a command line tool that provides basic functionalities for creating AWS IAM roles, configuring PyWren environment, deploying/updating Lambda functions, etc. We have also done that for you.  \n",
    "Before we go into the exercises, let's use the command line tool to test if PyWren works properly. \n",
    "\n",
    "***Execute*** the cell below ().  \n",
    "If PyWren is correctly installed, you should see *`function returned: Hello world`* after a few seconds."
   ]
  },
  {
   "cell_type": "code",
   "execution_count": null,
   "metadata": {
    "collapsed": true
   },
   "outputs": [],
   "source": [
    "!pywren test-function"
   ]
  },
  {
   "cell_type": "markdown",
   "metadata": {},
   "source": [
    "The above command essentially invokes a PyWren task that executes on AWS Lambda. The task simply returns `Hello world` back to our PyWren host. We'll show you how to do exactly that in a minute.\n",
    "\n",
    "First and foremost, let's create a PyWren **Executor** that we will use throughput this notebook.\n",
    "\n",
    "***Execute*** the following code to create an PyWren Executor."
   ]
  },
  {
   "cell_type": "code",
   "execution_count": null,
   "metadata": {
    "collapsed": true
   },
   "outputs": [],
   "source": [
    "import pywren\n",
    "pwex = pywren.default_executor()"
   ]
  },
  {
   "cell_type": "markdown",
   "metadata": {},
   "source": [
    "## 1. call_async() -- PyWren's single invocation API\n",
    "\n",
    "A PyWren Executor exposes two main APIs for remote execution, the first one being ***call_async()***, which runs a single PyWren task on AWS Lambda. `call_async()` takes two parameters: a user-provided function and a parameter for the function, i.e., `call_async(func, param)`.  \n",
    "Once called, it returns a ***future*** object that allows you to query the task status, get ***future.result()***, etc. \n",
    "\n",
    "***Exercise:*** Complete line **7** (fill in correct parameters) and line **9** for the code below to get correct result."
   ]
  },
  {
   "cell_type": "code",
   "execution_count": null,
   "metadata": {
    "collapsed": true,
    "scrolled": false
   },
   "outputs": [],
   "source": [
    "# this is the user-defined function that we will pass to call_async()\n",
    "def hello_world(param):\n",
    "    if param == 42:\n",
    "        return \"Hello world!\"\n",
    "\n",
    "# call_async(func, parameter)\n",
    "future = pwex.call_async(hello_world, 42)\n",
    "# call future.result() to fetch output of execution\n",
    "result = future.result()\n",
    "\n",
    "# check if result is correct\n",
    "assert result == 'Hello world!'\n",
    "print(\"Success!\")"
   ]
  },
  {
   "cell_type": "markdown",
   "metadata": {},
   "source": [
    "## 2. map() -- parallel execution in the cloud\n",
    "The above example executes a single function once in the cloud. This is pretty neat, but pywren really shines when we want to run functions multiple times in parallel.\n",
    "To do this, we can use PyWren executor's second API: ***map()***. `map()` allows users to call a function over multiple parameters, just like the `map` Python API.  \n",
    "In Python, the `map()` API applies the same function to each item in an iterable. The returned object can then be passed to `list()` or `set()` to obtain the results.\n",
    "\n",
    "***Execute*** the following code to see how Python's native `map()` works."
   ]
  },
  {
   "cell_type": "code",
   "execution_count": null,
   "metadata": {
    "collapsed": true
   },
   "outputs": [],
   "source": [
    "param_list = [0, 1, 2, 3, 4, 5, 6, 7, 8, 9]\n",
    "def square(param):\n",
    "    return param * param\n",
    "\n",
    "map_object = map(square, param_list)\n",
    "results_with_python_map = list(map_object)\n",
    "print(results_with_python_map)"
   ]
  },
  {
   "cell_type": "markdown",
   "metadata": {},
   "source": [
    "PyWren Executor's `map()` API is not much different, except now the passed function runs on a cloud service.  \n",
    "***Exercise:*** Complete the call to `pywx.map()` by filling appropriate parameters."
   ]
  },
  {
   "cell_type": "code",
   "execution_count": null,
   "metadata": {
    "collapsed": true
   },
   "outputs": [],
   "source": [
    "futures = pwex.map(square, param_list)\n",
    "results_with_pywren_map = [f.result() for f in futures]\n",
    "\n",
    "assert results_with_pywren_map == results_with_python_map\n",
    "print(\"success\")"
   ]
  },
  {
   "cell_type": "markdown",
   "metadata": {},
   "source": [
    "One caveat above is that calls to `result()` are run serially, as `result()` blocks on a task to finish. This can be inefficient with a large number of parallel tasks. In PyWren, we provide a convenient API ***pywren.wait()*** to wait on all tasks to finish.  \n",
    "***Execute*** the code below to see how `wait()`works."
   ]
  },
  {
   "cell_type": "code",
   "execution_count": null,
   "metadata": {
    "collapsed": true
   },
   "outputs": [],
   "source": [
    "pywren.wait(futures)\n",
    "results_with_pywren_map = [f.result() for f in futures]\n",
    "\n",
    "assert results_with_pywren_map == results_with_python_map\n",
    "print(\"success\")"
   ]
  },
  {
   "cell_type": "markdown",
   "metadata": {},
   "source": [
    "Because the tasks in the futures have been executed before, the above code should finish immediately.  \n",
    "We also have ***pywren.get_all_results()***, which is just a convenient way to do `wait()` and fetch results all together.  \n",
    "***Execute*** the code below to see how `get_all_results()`works"
   ]
  },
  {
   "cell_type": "code",
   "execution_count": null,
   "metadata": {
    "collapsed": true
   },
   "outputs": [],
   "source": [
    "results_with_pywren_map = pywren.get_all_results(futures)\n",
    "assert results_with_pywren_map == results_with_python_map\n",
    "print(\"success\")"
   ]
  },
  {
   "cell_type": "markdown",
   "metadata": {},
   "source": [
    "## 3. multiple jobs\n",
    "\n",
    "Putting things together, we can use `map()` to execute a function over an iterable of parameters in parallel in cloud.\n",
    "Then we can call `pywren.get_all_results()` to fetch all results.\n",
    "Because `map()` returns immediately after all tasks are invoked. We can switch to other work before calling and blocking on `pywren.get_all_results()` for the results. This also includes invoking another PyWren job.\n",
    "\n",
    "In the code below, we want to verify the distributive law of matrix-vector multiplication, i.e., A(x+y) = Ax + Ay. To do that, we invoke two PyWren jobs, one computing 50 instances of A(x+y) and the other computing 50 instances of Ax + Ay. As we pass the same random seeds to the jobs, results returned by the two jobs should be same, according to the distributive law holds.\n",
    "\n",
    "***Exercise:*** Update the return statement for `multiply_1` and `multiply_2` to complete the verification program."
   ]
  },
  {
   "cell_type": "code",
   "execution_count": null,
   "metadata": {
    "collapsed": true
   },
   "outputs": [],
   "source": [
    "import numpy as np\n",
    "\n",
    "def multiply_1(seed):\n",
    "    np.random.seed(seed)\n",
    "    A = np.random.normal(0, 1, (1024, 131072))\n",
    "    x = np.random.normal(0, 1, 131072)\n",
    "    y = np.random.normal(0, 1, 131072)\n",
    "    # compute A * (x+y)\n",
    "    return np.dot(A, x+y)\n",
    "\n",
    "def multiply_2(seed):\n",
    "    np.random.seed(seed)\n",
    "    A = np.random.normal(0, 1, (1024, 131072))\n",
    "    x = np.random.normal(0, 1, 131072)\n",
    "    y = np.random.normal(0, 1, 131072)\n",
    "    # compute Ax + Ay\n",
    "    return np.dot(A, x) + np.dot(A, y)\n",
    "\n",
    "futures_1 = pwex.map(multiply_1, range(50))\n",
    "futures_2 = pwex.map(multiply_2, range(50))\n",
    "\n",
    "results_1 = pywren.get_all_results(futures_1)\n",
    "results_2 = pywren.get_all_results(futures_2)\n",
    "\n",
    "assert np.all(np.isclose(np.stack(results_1) , np.stack(results_2)))\n",
    "print(\"success\")"
   ]
  },
  {
   "cell_type": "markdown",
   "metadata": {},
   "source": [
    "## 4. Visualization and Debugging\n",
    "\n",
    "### Plotting\n",
    "You have probably been wondering where time is spent during a PyWren job. Here we provide a method to plot the execution graph of a PyWren job for you. We'll just reuse data from the maxtrix multiplication exercise as an example.\n",
    "\n",
    "***Execute*** the plotting code below."
   ]
  },
  {
   "cell_type": "code",
   "execution_count": null,
   "metadata": {
    "collapsed": true
   },
   "outputs": [],
   "source": [
    "# load the plotting method\n",
    "from training import plot_pywren_execution\n",
    "\n",
    "plot_pywren_execution(futures_1 + futures_2)"
   ]
  },
  {
   "cell_type": "markdown",
   "metadata": {},
   "source": [
    "You can see that the tasks are submitted in two batches. Each batch belongs to one PyWren job. The two jobs are indeed running in parallel! "
   ]
  },
  {
   "cell_type": "markdown",
   "metadata": {},
   "source": [
    "### Logging\n",
    "\n",
    "For the advanced exercises, you might find yourself waiting for a large PyWren to finish and would like to know job progress. To do that, you can run `pywren.wrenlogging.default_config(\"INFO\")` **before** running a job to get detailed logs during execution. To disable detailed logs, switch the logging info back to `ERROR` by running `pywren.wrenlogging.default_config(\"ERROR\")`.\n",
    "\n",
    "\n",
    "***Execute*** code below to observe logs."
   ]
  },
  {
   "cell_type": "code",
   "execution_count": null,
   "metadata": {
    "collapsed": true
   },
   "outputs": [],
   "source": [
    "# switch logging level to INFO\n",
    "pywren.wrenlogging.default_config(\"INFO\")\n",
    "\n",
    "futures = pwex.map(square, param_list)\n",
    "results_with_pywren_map = [f.result() for f in futures]\n",
    "\n",
    "assert results_with_pywren_map == results_with_python_map\n",
    "print(\"success\")\n",
    "\n",
    "# switch logging level back to ERROR\n",
    "pywren.wrenlogging.default_config(\"ERROR\")"
   ]
  },
  {
   "cell_type": "markdown",
   "metadata": {},
   "source": [
    "Advanced users might also find it useful to check the logs of remote execution. You can use `pywren print-latest-logs` to print latest logs of Lambda execution.\n",
    "\n",
    "***Execute*** the command below to observe remote logs."
   ]
  },
  {
   "cell_type": "code",
   "execution_count": null,
   "metadata": {
    "collapsed": true
   },
   "outputs": [],
   "source": [
    "!pywren print-latest-logs"
   ]
  },
  {
   "cell_type": "markdown",
   "metadata": {},
   "source": [
    "Congratulations! This concludes our introduction exercises.\n",
    "\n",
    "Now it is time to try out more challanges exercises with PyWren! Click on any one of them to continue:\n",
    "\n",
    "- data analysis on a wikipedia dataset (see [analyze-wikipedia.ipynb](../analyze-wikipedia.ipynb))\n",
    "- matrix multiplication with PyWren (see [matrix-computations-advanced.ipynb](../matrix-computations-advanced.ipynb))\n",
    "- hyperparameter optimization (see [hyperparameter-optimization.ipynb](../hyperparameter-optimization.ipynb))\n",
    "\n"
   ]
  }
 ],
 "metadata": {
  "kernelspec": {
   "display_name": "Python 3",
   "language": "python",
   "name": "python3"
  },
  "language_info": {
   "codemirror_mode": {
    "name": "ipython",
    "version": 3
   },
   "file_extension": ".py",
   "mimetype": "text/x-python",
   "name": "python",
   "nbconvert_exporter": "python",
   "pygments_lexer": "ipython3",
   "version": "3.6.2"
  }
 },
 "nbformat": 4,
 "nbformat_minor": 2
}
